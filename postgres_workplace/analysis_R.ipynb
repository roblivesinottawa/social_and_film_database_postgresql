{
 "cells": [
  {
   "cell_type": "code",
   "execution_count": 34,
   "metadata": {},
   "outputs": [
    {
     "name": "stderr",
     "output_type": "stream",
     "text": [
      "also installing the dependencies 'selectr', 'systemfonts', 'clisymbols', 'rvest', 'gargle', 'downlit', 'ragg', 'parsedate', 'rematch', 'whoami', 'BiocManager', 'foghorn', 'gmailr', 'mockery', 'pingr', 'pkgdown', 'rhub'\n",
      "\n",
      "\n",
      "Warning message in download.file(url, destfile, method, mode = \"wb\", ...):\n",
      "\"downloaded length 4607939 != reported length 5900454\"\n",
      "Warning message in download.file(url, destfile, method, mode = \"wb\", ...):\n",
      "\"URL 'https://cran.rstudio.com/bin/macosx/contrib/4.1/systemfonts_1.0.4.tgz': Timeout of 60 seconds was reached\"\n"
     ]
    },
    {
     "name": "stdout",
     "output_type": "stream",
     "text": [
      "Error in download.file(url, destfile, method, mode = \"wb\", ...) : \n",
      "  download from 'https://cran.rstudio.com/bin/macosx/contrib/4.1/systemfonts_1.0.4.tgz' failed\n"
     ]
    },
    {
     "name": "stderr",
     "output_type": "stream",
     "text": [
      "Warning message in download.packages(pkgs, destdir = tmpd, available = available, :\n",
      "\"download of package 'systemfonts' failed\"\n"
     ]
    },
    {
     "name": "stdout",
     "output_type": "stream",
     "text": [
      "\n",
      "The downloaded binary packages are in\n",
      "\t/var/folders/h0/c9qylmn17q1g2jkn_w5pzpd40000gn/T//RtmpojpkyL/downloaded_packages\n"
     ]
    }
   ],
   "source": [
    "install.packages(\"devtools\", repos=\"https://cran.rstudio.com/\", dependencies=TRUE)"
   ]
  },
  {
   "cell_type": "code",
   "execution_count": 35,
   "metadata": {},
   "outputs": [
    {
     "name": "stderr",
     "output_type": "stream",
     "text": [
      "Downloading GitHub repo RcppCore/Rcpp@HEAD\n",
      "\n"
     ]
    },
    {
     "name": "stdout",
     "output_type": "stream",
     "text": [
      "Error in utils::download.file(url, path, method = method, quiet = quiet,  : \n",
      "  download from 'https://api.github.com/repos/RcppCore/Rcpp/tarball/HEAD' failed\n"
     ]
    },
    {
     "name": "stderr",
     "output_type": "stream",
     "text": [
      "Downloading GitHub repo rstats-db/DBI@HEAD\n",
      "\n"
     ]
    },
    {
     "name": "stdout",
     "output_type": "stream",
     "text": [
      "* checking for file '/private/var/folders/h0/c9qylmn17q1g2jkn_w5pzpd40000gn/T/RtmpojpkyL/remotesd5d53ee8d326/r-dbi-DBI-273d195/DESCRIPTION' ... OK\n",
      "* preparing 'DBI':\n",
      "* checking DESCRIPTION meta-information ... OK\n",
      "* installing the package to process help pages\n",
      "* checking for LF line-endings in source and make files and shell scripts\n",
      "* checking for empty or unneeded directories\n",
      "* building 'DBI_1.1.2.9000.tar.gz'\n",
      "\n"
     ]
    },
    {
     "name": "stderr",
     "output_type": "stream",
     "text": [
      "Downloading GitHub repo rstats-db/RPostgres@HEAD\n",
      "\n"
     ]
    },
    {
     "name": "stdout",
     "output_type": "stream",
     "text": [
      "Error in utils::download.file(url, path, method = method, quiet = quiet,  : \n",
      "  download from 'https://api.github.com/repos/rstats-db/RPostgres/tarball/HEAD' failed\n"
     ]
    }
   ],
   "source": [
    "devtools::install_github(\"RcppCore/Rcpp\")\n",
    "devtools::install_github(\"rstats-db/DBI\")\n",
    "devtools::install_github(\"rstats-db/RPostgres\")"
   ]
  },
  {
   "cell_type": "code",
   "execution_count": 39,
   "metadata": {},
   "outputs": [
    {
     "ename": "ERROR",
     "evalue": "Error: Failed to fetch row: ERROR:  invalid value for parameter \"TimeZone\": \"UTC\"\n\n",
     "output_type": "error",
     "traceback": [
      "Error: Failed to fetch row: ERROR:  invalid value for parameter \"TimeZone\": \"UTC\"\n\nTraceback:\n",
      "1. dbConnect(RPostgres::Postgres(), host = \"localhost\", port = 5432, \n .     dbname = \"dvd_rental\", user = \"rob_the_programmer\", password = pw)",
      "2. dbConnect(RPostgres::Postgres(), host = \"localhost\", port = 5432, \n .     dbname = \"dvd_rental\", user = \"rob_the_programmer\", password = pw)",
      "3. .local(drv, ...)",
      "4. dbExecute(conn, paste0(\"SET TIMEZONE = \", dbQuoteString(conn, \n .     timezone)), immediate = TRUE)",
      "5. dbExecute(conn, paste0(\"SET TIMEZONE = \", dbQuoteString(conn, \n .     timezone)), immediate = TRUE)",
      "6. dbSendStatement(conn, statement, ...)",
      "7. dbSendStatement(conn, statement, ...)",
      "8. dbSendQuery(conn, statement, ...)",
      "9. dbSendQuery(conn, statement, ...)",
      "10. .local(conn, statement, ...)",
      "11. new(\"PqResult\", conn = conn, ptr = result_create(conn@ptr, statement, \n  .     immediate), sql = statement, bigint = conn@bigint)",
      "12. initialize(value, ...)",
      "13. initialize(value, ...)",
      "14. result_create(conn@ptr, statement, immediate)"
     ]
    }
   ],
   "source": [
    "pw <- {\"postgrespassmacrob\"}\n",
    "\n",
    "conn <- dbConnect(RPostgres::Postgres(),\n",
    "                    host=\"localhost\",\n",
    "                    port=5432,\n",
    "                    dbname=\"dvd_rental\",\n",
    "                    user=\"rob_the_programmer\", \n",
    "                    password=pw)\n",
    "\n",
    "rm(pw)"
   ]
  },
  {
   "cell_type": "code",
   "execution_count": 40,
   "metadata": {},
   "outputs": [
    {
     "ename": "ERROR",
     "evalue": "Error in h(simpleError(msg, call)): error in evaluating the argument 'conn' in selecting a method for function 'dbExistsTable': object 'conn' not found\n",
     "output_type": "error",
     "traceback": [
      "Error in h(simpleError(msg, call)): error in evaluating the argument 'conn' in selecting a method for function 'dbExistsTable': object 'conn' not found\nTraceback:\n",
      "1. dbExistsTable(conn, \"actor\")",
      "2. .handleSimpleError(function (cond) \n . .Internal(C_tryCatchHelper(addr, 1L, cond)), \"object 'conn' not found\", \n .     base::quote(dbExistsTable(conn, \"actor\")))",
      "3. h(simpleError(msg, call))"
     ]
    }
   ],
   "source": [
    "dbExistsTable(conn, \"actor\")"
   ]
  },
  {
   "cell_type": "code",
   "execution_count": null,
   "metadata": {},
   "outputs": [],
   "source": []
  }
 ],
 "metadata": {
  "kernelspec": {
   "display_name": "R",
   "language": "R",
   "name": "ir"
  },
  "language_info": {
   "codemirror_mode": "r",
   "file_extension": ".r",
   "mimetype": "text/x-r-source",
   "name": "R",
   "pygments_lexer": "r",
   "version": "4.1.2"
  },
  "orig_nbformat": 4
 },
 "nbformat": 4,
 "nbformat_minor": 2
}
