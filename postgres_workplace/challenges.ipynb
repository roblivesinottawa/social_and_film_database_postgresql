{
 "cells": [
  {
   "cell_type": "code",
   "execution_count": 1,
   "metadata": {},
   "outputs": [],
   "source": [
    "import psycopg2\n",
    "from config import config"
   ]
  },
  {
   "cell_type": "code",
   "execution_count": 2,
   "metadata": {},
   "outputs": [
    {
     "name": "stdout",
     "output_type": "stream",
     "text": [
      "Connecting to the PostgreSQL database...\n",
      "PostgreSQL database version:\n",
      "('PostgreSQL 9.5.25 on x86_64-apple-darwin21.1.0, compiled by Apple clang version 13.0.0 (clang-1300.0.29.3), 64-bit',)\n",
      "Database connection closed.\n"
     ]
    }
   ],
   "source": [
    "def connect():\n",
    "    '''Connect to the PostGresQL Database Server'''\n",
    "    conn = None\n",
    "    try:\n",
    "        params = config()\n",
    "        print('Connecting to the PostgreSQL database...')\n",
    "        conn = psycopg2.connect(**params)\n",
    "        cur = conn.cursor()\n",
    "        print('PostgreSQL database version:')\n",
    "        cur.execute('SELECT version()')\n",
    "        db_version = cur.fetchone()\n",
    "        print(db_version)\n",
    "        cur.close()\n",
    "    except (Exception, psycopg2.DatabaseError) as error:\n",
    "        print(error)\n",
    "    finally:\n",
    "        if conn is not None:\n",
    "            conn.close()\n",
    "            print('Database connection closed.')\n",
    "\n",
    "if __name__=='__main__':\n",
    "    connect()"
   ]
  },
  {
   "cell_type": "code",
   "execution_count": 17,
   "metadata": {},
   "outputs": [],
   "source": [
    "def get_info(query):\n",
    "    '''this function queries the database and find the information specified in the parameter'''\n",
    "    conn = None\n",
    "    try:\n",
    "        params = config()\n",
    "        conn = psycopg2.connect(**params)\n",
    "        cur = conn.cursor()\n",
    "        cur.execute(query)\n",
    "        results = cur.fetchall()\n",
    "        return results\n",
    "        cur.close()\n",
    "    except (Exception, psycopg2.DatabaseError) as error:\n",
    "        print(error)\n",
    "    finally:\n",
    "        if conn is not None:\n",
    "            conn.close()"
   ]
  },
  {
   "cell_type": "code",
   "execution_count": 18,
   "metadata": {},
   "outputs": [
    {
     "data": {
      "text/plain": [
       "[('nancy.thomas@sakilacustomer.org',)]"
      ]
     },
     "execution_count": 18,
     "metadata": {},
     "output_type": "execute_result"
    }
   ],
   "source": [
    "# what is the email address for the customer with the name Nancy Thomas?\n",
    "get_info(\"SELECT email FROM customer WHERE first_name = 'Nancy' AND last_name = 'Thomas'\")"
   ]
  },
  {
   "cell_type": "code",
   "execution_count": 19,
   "metadata": {},
   "outputs": [
    {
     "data": {
      "text/plain": [
       "[('A Thoughtful Story of a Astronaut And a Composer who must Conquer a Dog in The Sahara Desert',)]"
      ]
     },
     "execution_count": 19,
     "metadata": {},
     "output_type": "execute_result"
    }
   ],
   "source": [
    "# give a customer the description of the movie \"Outlaw Hanky\"\n",
    "get_info(\"SELECT description FROM film WHERE title = 'Outlaw Hanky';\")"
   ]
  },
  {
   "cell_type": "code",
   "execution_count": 20,
   "metadata": {},
   "outputs": [
    {
     "data": {
      "text/plain": [
       "[('419009857119',)]"
      ]
     },
     "execution_count": 20,
     "metadata": {},
     "output_type": "execute_result"
    }
   ],
   "source": [
    "# get the customer number for the customer who lives at 259 Ipoh Drive\n",
    "get_info(\"SELECT phone FROM address WHERE address = '259 Ipoh Drive';\")"
   ]
  },
  {
   "cell_type": "code",
   "execution_count": 21,
   "metadata": {},
   "outputs": [
    {
     "data": {
      "text/plain": [
       "[('Jesus',\n",
       "  'Mccartney',\n",
       "  'jesus.mccartney@sakilacustomer.org',\n",
       "  '259 Ipoh Drive',\n",
       "  '419009857119')]"
      ]
     },
     "execution_count": 21,
     "metadata": {},
     "output_type": "execute_result"
    }
   ],
   "source": [
    "# get more information about the customer who lives at 259 Ipoh Drive\n",
    "get_info(\"\"\"SELECT \n",
    "            c.first_name, c.last_name, c.email, a.address, a.phone \n",
    "        FROM customer c \n",
    "            LEFT JOIN \n",
    "                    address a \n",
    "                ON c.address_id = a.address_id \n",
    "            WHERE a.address = '259 Ipoh Drive';\"\"\")"
   ]
  },
  {
   "cell_type": "code",
   "execution_count": 22,
   "metadata": {},
   "outputs": [
    {
     "data": {
      "text/plain": [
       "[(416,), (516,), (239,), (592,), (49,), (264,), (46,), (481,), (139,), (595,)]"
      ]
     },
     "execution_count": 22,
     "metadata": {},
     "output_type": "execute_result"
    }
   ],
   "source": [
    "# what are the customer ids of the 10 first customers who created a payment?\n",
    "get_info(\"SELECT customer_id from payment ORDER BY payment_date ASC LIMIT 10;\")"
   ]
  },
  {
   "cell_type": "code",
   "execution_count": 23,
   "metadata": {},
   "outputs": [
    {
     "data": {
      "text/plain": [
       "[('Iron Moon', 46),\n",
       " ('Kwai Homeward', 46),\n",
       " ('Alien Center', 46),\n",
       " ('Ridgemont Submarine', 46),\n",
       " ('Labyrinth League', 46)]"
      ]
     },
     "execution_count": 23,
     "metadata": {},
     "output_type": "execute_result"
    }
   ],
   "source": [
    "# what are the titles of the 5 shortest movies?\n",
    "get_info(\"SELECT title, length FROM film ORDER BY length ASC LIMIT 5;\")"
   ]
  },
  {
   "cell_type": "code",
   "execution_count": 24,
   "metadata": {},
   "outputs": [
    {
     "data": {
      "text/plain": [
       "[(37,)]"
      ]
     },
     "execution_count": 24,
     "metadata": {},
     "output_type": "execute_result"
    }
   ],
   "source": [
    "# how many movies can a customer watch that are less than or equal to 50 minutes long?\n",
    "get_info(\"SELECT COUNT(*) FROM film WHERE length <= 50;\")"
   ]
  },
  {
   "cell_type": "code",
   "execution_count": 26,
   "metadata": {},
   "outputs": [
    {
     "data": {
      "text/plain": [
       "[(3618,)]"
      ]
     },
     "execution_count": 26,
     "metadata": {},
     "output_type": "execute_result"
    }
   ],
   "source": [
    "# how many payment transactions were greater thn $5.00?\n",
    "get_info(\"SELECT COUNT(amount) FROM payment WHERE amount > 5;\")"
   ]
  },
  {
   "cell_type": "code",
   "execution_count": 29,
   "metadata": {},
   "outputs": [
    {
     "data": {
      "text/plain": [
       "[(5,)]"
      ]
     },
     "execution_count": 29,
     "metadata": {},
     "output_type": "execute_result"
    }
   ],
   "source": [
    "# how many actors have a first name that starts with the letter 'P'?\n",
    "get_info(\"SELECT COUNT(*) FROM actor WHERE first_name ILIKE 'p%';\")"
   ]
  },
  {
   "cell_type": "code",
   "execution_count": 30,
   "metadata": {},
   "outputs": [
    {
     "data": {
      "text/plain": [
       "[(378,)]"
      ]
     },
     "execution_count": 30,
     "metadata": {},
     "output_type": "execute_result"
    }
   ],
   "source": [
    "# how many unique districts are our customers from?\n",
    "get_info(\"SELECT COUNT(DISTINCT(district)) FROM address;\")"
   ]
  },
  {
   "cell_type": "code",
   "execution_count": 33,
   "metadata": {},
   "outputs": [
    {
     "data": {
      "text/plain": [
       "[('Asuncin',),\n",
       " ('Yerevan',),\n",
       " ('Nagasaki',),\n",
       " ('Nonthaburi',),\n",
       " ('Oriental',),\n",
       " ('Carabobo',),\n",
       " ('Bursa',),\n",
       " ('Cagayan Valley',),\n",
       " ('Mwanza',),\n",
       " ('West Bengali',),\n",
       " ('Jiangxi',),\n",
       " ('Daugavpils',),\n",
       " ('Anhalt Sachsen',),\n",
       " ('Shandong',),\n",
       " ('Anzotegui',),\n",
       " ('Lombardia',),\n",
       " ('Sinaloa',),\n",
       " ('Asir',),\n",
       " ('Andhra Pradesh',),\n",
       " ('Nampula',),\n",
       " ('Khartum',),\n",
       " ('Nord-Ouest',),\n",
       " ('Scotland',),\n",
       " ('Batman',),\n",
       " ('Baijeri',),\n",
       " ('Basel-Stadt',),\n",
       " ('Krasnojarsk',),\n",
       " ('Ahal',),\n",
       " ('Zanzibar West',),\n",
       " ('Veracruz',),\n",
       " ('Bretagne',),\n",
       " ('Cheju',),\n",
       " ('Osaka',),\n",
       " ('Botosani',),\n",
       " ('Missouri',),\n",
       " ('Aden',),\n",
       " ('North West',),\n",
       " ('St Thomas',),\n",
       " ('Adygea',),\n",
       " ('Zufar',),\n",
       " ('Pernambuco',),\n",
       " ('Henan',),\n",
       " ('Esfahan',),\n",
       " ('Songkhla',),\n",
       " ('Sousse',),\n",
       " ('Jalisco',),\n",
       " ('Baja California',),\n",
       " ('Southern Mindanao',),\n",
       " ('al-Qadarif',),\n",
       " ('Sucre',),\n",
       " ('Cear',),\n",
       " ('Central Java',),\n",
       " ('Pays de la Loire',),\n",
       " ('Sumqayit',),\n",
       " ('al-Sharqiya',),\n",
       " ('Mie',),\n",
       " ('Central Serbia',),\n",
       " ('Rajasthan',),\n",
       " ('Illinois',),\n",
       " ('Paran',),\n",
       " ('al-Manama',),\n",
       " ('Sulawesi Utara',),\n",
       " ('Jharkhand',),\n",
       " ('Pyongyang-si',),\n",
       " ('Punjab',),\n",
       " ('Southern Tagalog',),\n",
       " ('Colorado',),\n",
       " ('Nizni Novgorod',),\n",
       " ('al-Qalyubiya',),\n",
       " ('Puebla',),\n",
       " ('Free State',),\n",
       " ('',),\n",
       " ('Inner Mongolia',),\n",
       " ('Shimane',),\n",
       " ('Dhaka',),\n",
       " ('Saitama',),\n",
       " ('Gujarat',),\n",
       " ('Santa Catarina',),\n",
       " ('Sanaa',),\n",
       " ('Phnom Penh',),\n",
       " ('Hidalgo',),\n",
       " ('Hamilton',),\n",
       " ('Addis Abeba',),\n",
       " ('North Carolina',),\n",
       " ('Santiago',),\n",
       " ('National Capital Reg',),\n",
       " ('West Greece',),\n",
       " ('Copperbelt',),\n",
       " ('Jaroslavl',),\n",
       " ('Fujian',),\n",
       " ('Sawhaj',),\n",
       " ('Apulia',),\n",
       " ('Rio de Janeiro',),\n",
       " ('Sivas',),\n",
       " ('Istanbul',),\n",
       " ('Bern',),\n",
       " ('Xinxiang',),\n",
       " ('Smolensk',),\n",
       " ('Osmaniye',),\n",
       " ('Skikda',),\n",
       " ('Tamaulipas',),\n",
       " ('Central',),\n",
       " ('Miyazaki',),\n",
       " ('Severn Morava',),\n",
       " ('Antofagasta',),\n",
       " ('Caraga',),\n",
       " ('Kedah',),\n",
       " ('Lilongwe',),\n",
       " ('Noord-Brabant',),\n",
       " ('Heilongjiang',),\n",
       " ('Vaud',),\n",
       " ('Michoacn de Ocampo',),\n",
       " ('Denizli',),\n",
       " ('Kirov',),\n",
       " ('Tuvassia',),\n",
       " ('Bchar',),\n",
       " ('Georgia',),\n",
       " ('East Kasai',),\n",
       " ('Liaoning',),\n",
       " ('Boyac',),\n",
       " ('Sumatera Selatan',),\n",
       " ('Bauchi & Gombe',),\n",
       " ('British Colombia',),\n",
       " ('Kalimantan Barat',),\n",
       " ('Nyanza',),\n",
       " ('Esprito Santo',),\n",
       " ('Karnataka',),\n",
       " ('Virginia',),\n",
       " ('Centre',),\n",
       " ('Ponce',),\n",
       " ('Chuquisaca',),\n",
       " ('Hodeida',),\n",
       " ('Kanagawa',),\n",
       " ('Massachusetts',),\n",
       " ('England',),\n",
       " ('Mahajanga',),\n",
       " ('Tutuila',),\n",
       " ('Jilin',),\n",
       " ('West Java',),\n",
       " ('Zulia',),\n",
       " ('Hebei',),\n",
       " ('Par',),\n",
       " ('Dolnoslaskie',),\n",
       " ('Uttar Pradesh',),\n",
       " ('Mazowieckie',),\n",
       " ('Ninawa',),\n",
       " ('Brunei and Muara',),\n",
       " ('Provence-Alpes-Cte',),\n",
       " ('Hainan',),\n",
       " ('Nghe An',),\n",
       " ('Sofala',),\n",
       " ('Central Luzon',),\n",
       " ('Tokat',),\n",
       " ('Sind',),\n",
       " ('Nam Ha',),\n",
       " ('Lipetsk',),\n",
       " ('Adana',),\n",
       " ('Saarland',),\n",
       " ('Sharja',),\n",
       " ('North Austria',),\n",
       " ('Qubec',),\n",
       " ('Baki',),\n",
       " ('QLD',),\n",
       " ('Attika',),\n",
       " ('Taipei',),\n",
       " ('Alto Paran',),\n",
       " ('Hawalli',),\n",
       " ('Puerto Plata',),\n",
       " ('Markazi',),\n",
       " ('Jakarta Raya',),\n",
       " ('Nagano',),\n",
       " ('Central Visayas',),\n",
       " ('Kowloon and New Kowl',),\n",
       " ('Namibe',),\n",
       " ('Manab',),\n",
       " ('Piura',),\n",
       " ('Skne ln',),\n",
       " ('Ktahya',),\n",
       " ('Ondo & Ekiti',),\n",
       " ('Komi',),\n",
       " ('Kerman',),\n",
       " ('California',),\n",
       " ('Sumy',),\n",
       " ('Chimborazo',),\n",
       " ('Moscow (City)',),\n",
       " ('Ynlin',),\n",
       " ('Qina',),\n",
       " ('Nova Scotia',),\n",
       " ('Coahuila de Zaragoza',),\n",
       " ('Sagaing',),\n",
       " ('Baskimaa',),\n",
       " ('Kaliningrad',),\n",
       " ('Wielkopolskie',),\n",
       " ('Ohio',),\n",
       " ('Tartumaa',),\n",
       " ('Gauteng',),\n",
       " ('Ontario',),\n",
       " ('Kitaa',),\n",
       " ('Aceh',),\n",
       " ('Eastern Visayas',),\n",
       " ('Okinawa',),\n",
       " ('Galicia',),\n",
       " ('Vaduz',),\n",
       " ('Chiayi',),\n",
       " ('Rabat-Sal-Zammour-Z',),\n",
       " ('Kyongsangbuk',),\n",
       " ('Banjul',),\n",
       " ('Loja',),\n",
       " ('Perak',),\n",
       " ('Kwara & Kogi',),\n",
       " ('Nantou',),\n",
       " ('Tel Aviv',),\n",
       " ('Washington',),\n",
       " ('Nothwest Border Prov',),\n",
       " ('Vojvodina',),\n",
       " ('Bukarest',),\n",
       " ('Mogiljov',),\n",
       " ('Haryana',),\n",
       " ('Hiroshima',),\n",
       " ('Zhejiang',),\n",
       " ('Assam',),\n",
       " ('Chari-Baguirmi',),\n",
       " ('Shiga',),\n",
       " ('Kaduna',),\n",
       " ('Ha Darom',),\n",
       " ('Asturia',),\n",
       " ('Abu Dhabi',),\n",
       " ('Usak',),\n",
       " ('Sisilia',),\n",
       " ('Lubelskie',),\n",
       " ('Funafuti',),\n",
       " ('Chiba',),\n",
       " ('Tadla-Azilal',),\n",
       " ('St George',),\n",
       " ('Tamil Nadu',),\n",
       " ('Gois',),\n",
       " ('Ziguinchor',),\n",
       " ('Tianjin',),\n",
       " ('Arecibo',),\n",
       " ('al-Daqahliya',),\n",
       " ('Madhya Pradesh',),\n",
       " ('Oaxaca',),\n",
       " ('Steiermark',),\n",
       " ('Chaharmahal va Bakht',),\n",
       " ('Kilis',),\n",
       " ('Kursk',),\n",
       " ('Piemonte',),\n",
       " ('Minsk',),\n",
       " ('Benguela',),\n",
       " ('Oyo & Osun',),\n",
       " ('Drenthe',),\n",
       " ('Hanoi',),\n",
       " ('East Java',),\n",
       " ('Campeche',),\n",
       " ('Tongatapu',),\n",
       " ('Mekka',),\n",
       " ('Volgograd',),\n",
       " ('Shaba',),\n",
       " ('Caquet',),\n",
       " ('Baja California Sur',),\n",
       " ('Central Mindanao',),\n",
       " ('Kang-won',),\n",
       " ('Okayama',),\n",
       " ('East Azerbaidzan',),\n",
       " ('Pavlodar',),\n",
       " ('Sichuan',),\n",
       " ('Kalmykia',),\n",
       " ('La Romana',),\n",
       " ('Nebraska',),\n",
       " ('Kaohsiung',),\n",
       " ('Edo & Delta',),\n",
       " ('Balikesir',),\n",
       " ('Chisinau',),\n",
       " ('Mandalay',),\n",
       " ('Fukushima',),\n",
       " ('Gurico',),\n",
       " ('Gansu',),\n",
       " ('Guanajuato',),\n",
       " ('Salzburg',),\n",
       " ('Hunan',),\n",
       " ('Krim',),\n",
       " ('Friuli-Venezia Giuli',),\n",
       " ('New Hampshire',),\n",
       " ('Risaralda',),\n",
       " ('Jiangsu',),\n",
       " ('Callao',),\n",
       " ('Northern Mindanao',),\n",
       " ('Buenos Aires',),\n",
       " ('Nakhon Sawan',),\n",
       " ('Northern',),\n",
       " ('Eskisehir',),\n",
       " ('Sarawak',),\n",
       " ('Yamaguchi',),\n",
       " ('Mxico',),\n",
       " ('Chihuahua',),\n",
       " ('Florida',),\n",
       " ('Ruse',),\n",
       " ('Crdoba',),\n",
       " ('Taizz',),\n",
       " ('Tabuk',),\n",
       " ('Vilna',),\n",
       " ('Valle',),\n",
       " ('Khanh Hoa',),\n",
       " ('Huanuco',),\n",
       " ('Tabora',),\n",
       " ('Alberta',),\n",
       " ('Lima',),\n",
       " ('Maharashtra',),\n",
       " ('Saint-Denis',),\n",
       " ('Kurgan',),\n",
       " ('Santa F',),\n",
       " ('Ibaragi',),\n",
       " ('Cayenne',),\n",
       " ('Tokyo-to',),\n",
       " ('Pohjois-Pohjanmaa',),\n",
       " ('Tucumn',),\n",
       " ('Baden-Wrttemberg',),\n",
       " ('Coquimbo',),\n",
       " ('Tahiti',),\n",
       " ('Western Cape',),\n",
       " ('Ivanovo',),\n",
       " ('Moskova',),\n",
       " ('Fejr',),\n",
       " ('Bihar',),\n",
       " ('Kerala',),\n",
       " ('Stavropol',),\n",
       " ('Haskovo',),\n",
       " ('Battambang',),\n",
       " ('Distrito Federal',),\n",
       " ('Morelos',),\n",
       " ('Bratislava',),\n",
       " ('Rio Grande do Sul',),\n",
       " ('Sokoto & Kebbi & Zam',),\n",
       " ('Shanxi',),\n",
       " ('Haiphong',),\n",
       " ('Batna',),\n",
       " ('Ningxia',),\n",
       " ('Roraima',),\n",
       " ('Slaskie',),\n",
       " ('Gelderland',),\n",
       " ('Hubei',),\n",
       " ('Texas',),\n",
       " ('Rostov-na-Donu',),\n",
       " ('Masqat',),\n",
       " ('Irkutsk',),\n",
       " ('Guangdong',),\n",
       " ('Taka-Karpatia',),\n",
       " ('Tete',),\n",
       " ('Chollanam',),\n",
       " ('Tennessee',),\n",
       " ('Miranda',),\n",
       " ('Gifu',),\n",
       " ('Kabol',),\n",
       " ('Utrecht',),\n",
       " ('La Paz',),\n",
       " ('Qaraghandy',),\n",
       " ('Kyonggi',),\n",
       " ('Minas Gerais',),\n",
       " ('KwaZulu-Natal',),\n",
       " ('Ishikawa',),\n",
       " ('Tatarstan',),\n",
       " ('Hmelnytskyi',),\n",
       " ('Guerrero',),\n",
       " ('Pietari',),\n",
       " ('Changhwa',),\n",
       " ('Kermanshah',),\n",
       " ('Gumma',),\n",
       " ('Midi-Pyrnes',),\n",
       " ('Streymoyar',),\n",
       " ('Gaziantep',),\n",
       " ('Liepaja',),\n",
       " ('Toscana',),\n",
       " ('Northern Cape',),\n",
       " ('So Paulo',),\n",
       " ('Nordrhein-Westfalen',),\n",
       " ('OHiggins',),\n",
       " ('Kujawsko-Pomorskie',),\n",
       " ('Michigan',)]"
      ]
     },
     "execution_count": 33,
     "metadata": {},
     "output_type": "execute_result"
    }
   ],
   "source": [
    "# retrieve the list of names for those distinct districts from the previous query\n",
    "get_info(\"\"\"SELECT DISTINCT(district) FROM address;\"\"\")"
   ]
  },
  {
   "cell_type": "code",
   "execution_count": 34,
   "metadata": {},
   "outputs": [
    {
     "data": {
      "text/plain": [
       "[(52,)]"
      ]
     },
     "execution_count": 34,
     "metadata": {},
     "output_type": "execute_result"
    }
   ],
   "source": [
    "# how many films are R-rated and have a replacement cost between $5 and $15?\n",
    "get_info(\"\"\"SELECT COUNT(*) FROM film WHERE rating = 'R' AND replacement_cost BETWEEN 5 AND 15;\"\"\")"
   ]
  },
  {
   "cell_type": "code",
   "execution_count": 35,
   "metadata": {},
   "outputs": [
    {
     "data": {
      "text/plain": [
       "[(5,)]"
      ]
     },
     "execution_count": 35,
     "metadata": {},
     "output_type": "execute_result"
    }
   ],
   "source": [
    "# how many films have the word Truman somewhere in the title?\n",
    "get_info(\"\"\"SELECT COUNT(title) FROM film WHERE title ILIKE '%truman%';\"\"\")"
   ]
  },
  {
   "cell_type": "code",
   "execution_count": 36,
   "metadata": {},
   "outputs": [
    {
     "data": {
      "text/plain": [
       "[(2, 7304), (1, 7292)]"
      ]
     },
     "execution_count": 36,
     "metadata": {},
     "output_type": "execute_result"
    }
   ],
   "source": [
    "# we have two staff members with staff ids 1 and 2. A bonus will be given to the staff member\n",
    "#  who handled the most transactions. how many payments did each staff member handle and who gets the bonus?\n",
    "get_info(\"\"\"\n",
    "        SELECT staff_id, COUNT(amount) FROM payment GROUP BY staff_id;\n",
    "\"\"\")"
   ]
  },
  {
   "cell_type": "code",
   "execution_count": 38,
   "metadata": {},
   "outputs": [
    {
     "data": {
      "text/plain": [
       "[('R', Decimal('20.23')),\n",
       " ('PG', Decimal('18.96')),\n",
       " ('PG-13', Decimal('20.40')),\n",
       " ('NC-17', Decimal('20.14')),\n",
       " ('G', Decimal('20.12'))]"
      ]
     },
     "execution_count": 38,
     "metadata": {},
     "output_type": "execute_result"
    }
   ],
   "source": [
    "# corporate hq is conducting a study on the relationship  between replacement cost and a movie rating.\n",
    "# what is the average replacement cost per rating?\n",
    "get_info(\"\"\"\n",
    "        SELECT rating, ROUND(AVG(replacement_cost), 2) FROM film GROUP BY rating;\n",
    "\"\"\")"
   ]
  },
  {
   "cell_type": "code",
   "execution_count": 40,
   "metadata": {},
   "outputs": [
    {
     "data": {
      "text/plain": [
       "[(148, Decimal('211.55')),\n",
       " (526, Decimal('208.58')),\n",
       " (178, Decimal('194.61')),\n",
       " (137, Decimal('191.62')),\n",
       " (144, Decimal('189.60'))]"
      ]
     },
     "execution_count": 40,
     "metadata": {},
     "output_type": "execute_result"
    }
   ],
   "source": [
    "# we are running a promotiom to reward 5 customers with coupons.\n",
    "# what are the customer ids of the 5 customers who have the most payments?\n",
    "get_info(\n",
    "    \"\"\"\n",
    "        select customer_id, sum(amount) from payment group by customer_id order by sum(amount) desc limit 5;\n",
    "    \"\"\"\n",
    ")"
   ]
  },
  {
   "cell_type": "code",
   "execution_count": 42,
   "metadata": {},
   "outputs": [
    {
     "data": {
      "text/plain": [
       "[(526,), (148,), (144,)]"
      ]
     },
     "execution_count": 42,
     "metadata": {},
     "output_type": "execute_result"
    }
   ],
   "source": [
    "# we are launching a platinum service for our most loyal customers. we will assidn a platinum membership to\n",
    "# the customers who have made 40 or more payments. what customer_ids are eligible for platinum status?\n",
    "get_info(\n",
    "    \"\"\"\n",
    "    SELECT customer_id FROM payment GROUP BY customer_id HAVING COUNT(*) >= 40;\n",
    "    \"\"\")"
   ]
  },
  {
   "cell_type": "code",
   "execution_count": 46,
   "metadata": {},
   "outputs": [
    {
     "data": {
      "text/plain": [
       "[(187, Decimal('110.81')),\n",
       " (526, Decimal('101.78')),\n",
       " (211, Decimal('108.77')),\n",
       " (148, Decimal('110.78')),\n",
       " (522, Decimal('102.80'))]"
      ]
     },
     "execution_count": 46,
     "metadata": {},
     "output_type": "execute_result"
    }
   ],
   "source": [
    "# what are the customer ids of customers who have spent more than 100 in payment transactions with staff_id 2?\n",
    "get_info(\n",
    "    \"\"\"\n",
    "    SELECT customer_id, SUM(amount) \n",
    "    FROM payment \n",
    "    WHERE staff_id = 2 \n",
    "    GROUP BY customer_id, staff_id \n",
    "    HAVING SUM(amount) > 100;\n",
    "    \"\"\"\n",
    "    )"
   ]
  },
  {
   "cell_type": "code",
   "execution_count": 47,
   "metadata": {},
   "outputs": [
    {
     "data": {
      "text/plain": [
       "[(187,), (148,)]"
      ]
     },
     "execution_count": 47,
     "metadata": {},
     "output_type": "execute_result"
    }
   ],
   "source": [
    "# return the customer id of customers who have spent at least 110 with the staff member with staff_id 2\n",
    "get_info(\"SELECT customer_id from payment WHERE staff_id = 2 GROUP BY customer_id HAVING SUM(amount) > 110;\")"
   ]
  },
  {
   "cell_type": "code",
   "execution_count": 49,
   "metadata": {},
   "outputs": [
    {
     "data": {
      "text/plain": [
       "[(20,)]"
      ]
     },
     "execution_count": 49,
     "metadata": {},
     "output_type": "execute_result"
    }
   ],
   "source": [
    "# how many films begin with the letter 'J'?\n",
    "get_info(\"SELECT COUNT(*) from film WHERE title ILIKE 'j%';\")"
   ]
  },
  {
   "cell_type": "code",
   "execution_count": 53,
   "metadata": {},
   "outputs": [
    {
     "data": {
      "text/plain": [
       "[(434, 'Eddie', 'Tomlin')]"
      ]
     },
     "execution_count": 53,
     "metadata": {},
     "output_type": "execute_result"
    }
   ],
   "source": [
    "# what customer has the highest customer id whose name starts with an 'E' and has an address ID lower than 500?\n",
    "get_info(\"\"\"\n",
    "        SELECT MAX(customer_id), first_name, last_name\n",
    "        FROM customer\n",
    "        WHERE first_name ILIKE 'e%' \n",
    "        GROUP BY customer_id, first_name, last_name\n",
    "        HAVING address_id < 500\n",
    "        ORDER BY MAX(customer_id) DESC\n",
    "        LIMIT 1;\n",
    "\"\"\")"
   ]
  },
  {
   "cell_type": "code",
   "execution_count": null,
   "metadata": {},
   "outputs": [],
   "source": []
  }
 ],
 "metadata": {
  "interpreter": {
   "hash": "aee8b7b246df8f9039afb4144a1f6fd8d2ca17a180786b69acc140d282b71a49"
  },
  "kernelspec": {
   "display_name": "Python 3.10.2 64-bit",
   "language": "python",
   "name": "python3"
  },
  "language_info": {
   "codemirror_mode": {
    "name": "ipython",
    "version": 3
   },
   "file_extension": ".py",
   "mimetype": "text/x-python",
   "name": "python",
   "nbconvert_exporter": "python",
   "pygments_lexer": "ipython3",
   "version": "3.10.2"
  },
  "orig_nbformat": 4
 },
 "nbformat": 4,
 "nbformat_minor": 2
}
