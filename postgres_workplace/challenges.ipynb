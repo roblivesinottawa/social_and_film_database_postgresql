{
 "cells": [
  {
   "cell_type": "code",
   "execution_count": 1,
   "metadata": {},
   "outputs": [],
   "source": [
    "import psycopg2\n",
    "from config import config"
   ]
  },
  {
   "cell_type": "code",
   "execution_count": 2,
   "metadata": {},
   "outputs": [
    {
     "name": "stdout",
     "output_type": "stream",
     "text": [
      "Connecting to the PostgreSQL database...\n",
      "PostgreSQL database version:\n",
      "('PostgreSQL 9.5.25 on x86_64-apple-darwin21.1.0, compiled by Apple clang version 13.0.0 (clang-1300.0.29.3), 64-bit',)\n",
      "Database connection closed.\n"
     ]
    }
   ],
   "source": [
    "def connect():\n",
    "    '''Connect to the PostGresQL Database Server'''\n",
    "    conn = None\n",
    "    try:\n",
    "        params = config()\n",
    "        print('Connecting to the PostgreSQL database...')\n",
    "        conn = psycopg2.connect(**params)\n",
    "        cur = conn.cursor()\n",
    "        print('PostgreSQL database version:')\n",
    "        cur.execute('SELECT version()')\n",
    "        db_version = cur.fetchone()\n",
    "        print(db_version)\n",
    "        cur.close()\n",
    "    except (Exception, psycopg2.DatabaseError) as error:\n",
    "        print(error)\n",
    "    finally:\n",
    "        if conn is not None:\n",
    "            conn.close()\n",
    "            print('Database connection closed.')\n",
    "\n",
    "if __name__=='__main__':\n",
    "    connect()"
   ]
  },
  {
   "cell_type": "code",
   "execution_count": 6,
   "metadata": {},
   "outputs": [
    {
     "name": "stdout",
     "output_type": "stream",
     "text": [
      "[(1, 'Penelope', 'Guiness', datetime.datetime(2013, 5, 26, 14, 47, 57, 620000)), (2, 'Nick', 'Wahlberg', datetime.datetime(2013, 5, 26, 14, 47, 57, 620000)), (3, 'Ed', 'Chase', datetime.datetime(2013, 5, 26, 14, 47, 57, 620000)), (4, 'Jennifer', 'Davis', datetime.datetime(2013, 5, 26, 14, 47, 57, 620000)), (5, 'Johnny', 'Lollobrigida', datetime.datetime(2013, 5, 26, 14, 47, 57, 620000)), (6, 'Bette', 'Nicholson', datetime.datetime(2013, 5, 26, 14, 47, 57, 620000)), (7, 'Grace', 'Mostel', datetime.datetime(2013, 5, 26, 14, 47, 57, 620000)), (8, 'Matthew', 'Johansson', datetime.datetime(2013, 5, 26, 14, 47, 57, 620000)), (9, 'Joe', 'Swank', datetime.datetime(2013, 5, 26, 14, 47, 57, 620000)), (10, 'Christian', 'Gable', datetime.datetime(2013, 5, 26, 14, 47, 57, 620000)), (11, 'Zero', 'Cage', datetime.datetime(2013, 5, 26, 14, 47, 57, 620000)), (12, 'Karl', 'Berry', datetime.datetime(2013, 5, 26, 14, 47, 57, 620000)), (13, 'Uma', 'Wood', datetime.datetime(2013, 5, 26, 14, 47, 57, 620000)), (14, 'Vivien', 'Bergen', datetime.datetime(2013, 5, 26, 14, 47, 57, 620000)), (15, 'Cuba', 'Olivier', datetime.datetime(2013, 5, 26, 14, 47, 57, 620000)), (16, 'Fred', 'Costner', datetime.datetime(2013, 5, 26, 14, 47, 57, 620000)), (17, 'Helen', 'Voight', datetime.datetime(2013, 5, 26, 14, 47, 57, 620000)), (18, 'Dan', 'Torn', datetime.datetime(2013, 5, 26, 14, 47, 57, 620000)), (19, 'Bob', 'Fawcett', datetime.datetime(2013, 5, 26, 14, 47, 57, 620000)), (20, 'Lucille', 'Tracy', datetime.datetime(2013, 5, 26, 14, 47, 57, 620000))]\n",
      "cursor already closed\n",
      "Database connection closed.\n"
     ]
    }
   ],
   "source": [
    "def select_all():\n",
    "    '''Querying the PostGreSQL Database'''\n",
    "    conn = None\n",
    "    try:\n",
    "        params = config()\n",
    "        conn = psycopg2.connect(**params)\n",
    "        cur = conn.cursor()\n",
    "        cur.execute('''SELECT * FROM actor LIMIT 20;''')\n",
    "        rows = cur.fetchall()\n",
    "        print(rows)\n",
    "        cur.close()\n",
    "    except (Exception, psycopg2.DatabaseError) as error:\n",
    "        print(error)\n",
    "    finally:\n",
    "        if conn is not None:\n",
    "            conn.close()\n",
    "            print('Database connection closed.')\n",
    "\n",
    "if __name__=='__main__':\n",
    "    select_all()"
   ]
  },
  {
   "cell_type": "code",
   "execution_count": null,
   "metadata": {},
   "outputs": [],
   "source": []
  }
 ],
 "metadata": {
  "interpreter": {
   "hash": "aee8b7b246df8f9039afb4144a1f6fd8d2ca17a180786b69acc140d282b71a49"
  },
  "kernelspec": {
   "display_name": "Python 3.10.2 64-bit",
   "language": "python",
   "name": "python3"
  },
  "language_info": {
   "codemirror_mode": {
    "name": "ipython",
    "version": 3
   },
   "file_extension": ".py",
   "mimetype": "text/x-python",
   "name": "python",
   "nbconvert_exporter": "python",
   "pygments_lexer": "ipython3",
   "version": "3.10.2"
  },
  "orig_nbformat": 4
 },
 "nbformat": 4,
 "nbformat_minor": 2
}
