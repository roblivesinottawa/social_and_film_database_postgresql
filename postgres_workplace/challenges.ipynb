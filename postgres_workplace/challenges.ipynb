{
 "cells": [
  {
   "cell_type": "code",
   "execution_count": 1,
   "metadata": {},
   "outputs": [],
   "source": [
    "import psycopg2\n",
    "from config import config"
   ]
  },
  {
   "cell_type": "code",
   "execution_count": 2,
   "metadata": {},
   "outputs": [
    {
     "name": "stdout",
     "output_type": "stream",
     "text": [
      "Connecting to the PostgreSQL database...\n",
      "PostgreSQL database version:\n",
      "('PostgreSQL 9.5.25 on x86_64-apple-darwin21.1.0, compiled by Apple clang version 13.0.0 (clang-1300.0.29.3), 64-bit',)\n",
      "Database connection closed.\n"
     ]
    }
   ],
   "source": [
    "def connect():\n",
    "    '''Connect to the PostGresQL Database Server'''\n",
    "    conn = None\n",
    "    try:\n",
    "        params = config()\n",
    "        print('Connecting to the PostgreSQL database...')\n",
    "        conn = psycopg2.connect(**params)\n",
    "        cur = conn.cursor()\n",
    "        print('PostgreSQL database version:')\n",
    "        cur.execute('SELECT version()')\n",
    "        db_version = cur.fetchone()\n",
    "        print(db_version)\n",
    "        cur.close()\n",
    "    except (Exception, psycopg2.DatabaseError) as error:\n",
    "        print(error)\n",
    "    finally:\n",
    "        if conn is not None:\n",
    "            conn.close()\n",
    "            print('Database connection closed.')\n",
    "\n",
    "if __name__=='__main__':\n",
    "    connect()"
   ]
  },
  {
   "cell_type": "code",
   "execution_count": 17,
   "metadata": {},
   "outputs": [],
   "source": [
    "def get_info(query):\n",
    "    '''this function queries the database and find the information specified in the parameter'''\n",
    "    conn = None\n",
    "    try:\n",
    "        params = config()\n",
    "        conn = psycopg2.connect(**params)\n",
    "        cur = conn.cursor()\n",
    "        cur.execute(query)\n",
    "        results = cur.fetchall()\n",
    "        return results\n",
    "        cur.close()\n",
    "    except (Exception, psycopg2.DatabaseError) as error:\n",
    "        print(error)\n",
    "    finally:\n",
    "        if conn is not None:\n",
    "            conn.close()"
   ]
  },
  {
   "cell_type": "code",
   "execution_count": 18,
   "metadata": {},
   "outputs": [
    {
     "data": {
      "text/plain": [
       "[('nancy.thomas@sakilacustomer.org',)]"
      ]
     },
     "execution_count": 18,
     "metadata": {},
     "output_type": "execute_result"
    }
   ],
   "source": [
    "# what is the email address for the customer with the name Nancy Thomas?\n",
    "get_info(\"SELECT email FROM customer WHERE first_name = 'Nancy' AND last_name = 'Thomas'\")"
   ]
  },
  {
   "cell_type": "code",
   "execution_count": 19,
   "metadata": {},
   "outputs": [
    {
     "data": {
      "text/plain": [
       "[('A Thoughtful Story of a Astronaut And a Composer who must Conquer a Dog in The Sahara Desert',)]"
      ]
     },
     "execution_count": 19,
     "metadata": {},
     "output_type": "execute_result"
    }
   ],
   "source": [
    "# give a customer the description of the movie \"Outlaw Hanky\"\n",
    "get_info(\"SELECT description FROM film WHERE title = 'Outlaw Hanky';\")"
   ]
  },
  {
   "cell_type": "code",
   "execution_count": 20,
   "metadata": {},
   "outputs": [
    {
     "data": {
      "text/plain": [
       "[('419009857119',)]"
      ]
     },
     "execution_count": 20,
     "metadata": {},
     "output_type": "execute_result"
    }
   ],
   "source": [
    "# get the customer number for the customer who lives at 259 Ipoh Drive\n",
    "get_info(\"SELECT phone FROM address WHERE address = '259 Ipoh Drive';\")"
   ]
  },
  {
   "cell_type": "code",
   "execution_count": 21,
   "metadata": {},
   "outputs": [
    {
     "data": {
      "text/plain": [
       "[('Jesus',\n",
       "  'Mccartney',\n",
       "  'jesus.mccartney@sakilacustomer.org',\n",
       "  '259 Ipoh Drive',\n",
       "  '419009857119')]"
      ]
     },
     "execution_count": 21,
     "metadata": {},
     "output_type": "execute_result"
    }
   ],
   "source": [
    "# get more information about the customer who lives at 259 Ipoh Drive\n",
    "get_info(\"\"\"SELECT \n",
    "            c.first_name, c.last_name, c.email, a.address, a.phone \n",
    "        FROM customer c \n",
    "            LEFT JOIN \n",
    "                    address a \n",
    "                ON c.address_id = a.address_id \n",
    "            WHERE a.address = '259 Ipoh Drive';\"\"\")"
   ]
  },
  {
   "cell_type": "code",
   "execution_count": 22,
   "metadata": {},
   "outputs": [
    {
     "data": {
      "text/plain": [
       "[(416,), (516,), (239,), (592,), (49,), (264,), (46,), (481,), (139,), (595,)]"
      ]
     },
     "execution_count": 22,
     "metadata": {},
     "output_type": "execute_result"
    }
   ],
   "source": [
    "# what are the customer ids of the 10 first customers who created a payment?\n",
    "get_info(\"SELECT customer_id from payment ORDER BY payment_date ASC LIMIT 10;\")"
   ]
  },
  {
   "cell_type": "code",
   "execution_count": 23,
   "metadata": {},
   "outputs": [
    {
     "data": {
      "text/plain": [
       "[('Iron Moon', 46),\n",
       " ('Kwai Homeward', 46),\n",
       " ('Alien Center', 46),\n",
       " ('Ridgemont Submarine', 46),\n",
       " ('Labyrinth League', 46)]"
      ]
     },
     "execution_count": 23,
     "metadata": {},
     "output_type": "execute_result"
    }
   ],
   "source": [
    "# what are the titles of the 5 shortest movies?\n",
    "get_info(\"SELECT title, length FROM film ORDER BY length ASC LIMIT 5;\")"
   ]
  },
  {
   "cell_type": "code",
   "execution_count": 24,
   "metadata": {},
   "outputs": [
    {
     "data": {
      "text/plain": [
       "[(37,)]"
      ]
     },
     "execution_count": 24,
     "metadata": {},
     "output_type": "execute_result"
    }
   ],
   "source": [
    "# how many movies can a customer watch that are less than or equal to 50 minutes long?\n",
    "get_info(\"SELECT COUNT(*) FROM film WHERE length <= 50;\")"
   ]
  },
  {
   "cell_type": "code",
   "execution_count": null,
   "metadata": {},
   "outputs": [],
   "source": []
  }
 ],
 "metadata": {
  "interpreter": {
   "hash": "aee8b7b246df8f9039afb4144a1f6fd8d2ca17a180786b69acc140d282b71a49"
  },
  "kernelspec": {
   "display_name": "Python 3.10.2 64-bit",
   "language": "python",
   "name": "python3"
  },
  "language_info": {
   "codemirror_mode": {
    "name": "ipython",
    "version": 3
   },
   "file_extension": ".py",
   "mimetype": "text/x-python",
   "name": "python",
   "nbconvert_exporter": "python",
   "pygments_lexer": "ipython3",
   "version": "3.10.2"
  },
  "orig_nbformat": 4
 },
 "nbformat": 4,
 "nbformat_minor": 2
}
